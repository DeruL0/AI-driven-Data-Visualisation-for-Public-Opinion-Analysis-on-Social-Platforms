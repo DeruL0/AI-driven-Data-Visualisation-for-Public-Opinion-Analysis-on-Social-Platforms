{
 "cells": [
  {
   "cell_type": "markdown",
   "metadata": {},
   "source": [
    "# 本代码功能：\n",
    "## 将分出主题的内容输出到四个不同的文件夹中\n",
    "## 对总数据集或分话题数据集按照时间顺序进行情感曲线分析"
   ]
  },
  {
   "cell_type": "code",
   "execution_count": 19,
   "metadata": {},
   "outputs": [],
   "source": [
    "import pandas as pd\n",
    "from datetime import datetime\n",
    "from collections import Counter\n",
    "import numpy as np\n",
    "import matplotlib.pyplot as plt\n",
    "from sklearn.linear_model import LinearRegression\n",
    "from sklearn.preprocessing import PolynomialFeatures\n",
    "from sklearn.metrics import mean_squared_error, r2_score\n",
    "import re\n"
   ]
  },
  {
   "cell_type": "code",
   "execution_count": 54,
   "metadata": {},
   "outputs": [],
   "source": [
    "def data_sort(filename):\n",
    "    # Create DataFrames for each topic\n",
    "    df0 = pd.DataFrame(\n",
    "        {'content': [], 'forward_num': [], 'comment_Num': [], 'like_num': [], 'verify_typ': [], 'publish_time': [],\n",
    "         'sentiment': []})\n",
    "    df1 = pd.DataFrame(\n",
    "        {'content': [], 'forward_num': [], 'comment_num': [], 'like_num': [], 'verify_typ': [], 'publish_time': [],\n",
    "         'sentiment': []})\n",
    "    df2 = pd.DataFrame(\n",
    "        {'content': [], 'forward_num': [], 'comment_num': [], 'like_num': [], 'verify_typ': [], 'publish_time': [],\n",
    "         'sentiment': []})\n",
    "    df3 = pd.DataFrame(\n",
    "        {'content': [], 'forward_num': [], 'comment_num': [], 'like_num': [], 'verify_typ': [], 'publish_time': [],\n",
    "         'sentiment': []})\n",
    "\n",
    "    # Read data from the original file\n",
    "    df = pd.read_csv(filename, encoding=\"UTF-8\", low_memory=False)\n",
    "\n",
    "    # Loop over each row in the data\n",
    "    for i in range(len(df)):\n",
    "        if df.loc[i, \"概率最大的主题序号\"] == \"Topic #0\":\n",
    "            # Append row to df0 DataFrame\n",
    "            row = pd.DataFrame({\n",
    "                'content': [df.loc[i, \"content\"]],\n",
    "                'forward_num': [df.loc[i, \"forward_num\"]],\n",
    "                'comment_num': [df.loc[i, \"comment_num\"]],\n",
    "                'like_num': [df.loc[i, \"like_num\"]],\n",
    "                'verify_typ': [df.loc[i, \"verify_typ\"]],\n",
    "                'publish_time': [df.loc[i, \"publish_time\"]],\n",
    "                'sentiment': [df.loc[i, \"sentiment\"]]\n",
    "            })\n",
    "            df0 = pd.concat([df0, row])\n",
    "        elif df.loc[i, \"概率最大的主题序号\"] == \"Topic #1\":\n",
    "            # Append row to df1 DataFrame\n",
    "            row = pd.DataFrame({\n",
    "                'content': [df.loc[i, \"content\"] + df.loc[i, \"content_cutted\"] + df.loc[i, \"概率最大的主题序号\"]],\n",
    "                'forward_num': [df.loc[i, \"forward_num\"]],\n",
    "                'comment_num': [df.loc[i, \"comment_num\"]],\n",
    "                'like_num': [df.loc[i, \"like_num\"]],\n",
    "                'verify_typ': [df.loc[i, \"verify_typ\"]],\n",
    "                'publish_time': [df.loc[i, \"publish_time\"]],\n",
    "                'sentiment': [df.loc[i, \"sentiment\"]]\n",
    "            })\n",
    "            df1 = pd.concat([df1, row])\n",
    "        elif df.loc[i, \"概率最大的主题序号\"] == \"Topic #2\":\n",
    "            # Append row to df2 DataFrame\n",
    "            row = pd.DataFrame({\n",
    "                'content': [df.loc[i, \"content\"] + df.loc[i, \"content_cutted\"] + df.loc[i, \"概率最大的主题序号\"]],\n",
    "                'forward_num': [df.loc[i, \"forward_num\"]],\n",
    "                'comment_num': [df.loc[i, \"comment_num\"]],\n",
    "                'like_num': [df.loc[i, \"like_num\"]],\n",
    "                'verify_typ': [df.loc[i, \"verify_typ\"]],\n",
    "                'publish_time': [df.loc[i, \"publish_time\"]],\n",
    "                'sentiment': [df.loc[i, \"sentiment\"]]\n",
    "            })\n",
    "            df2 = pd.concat([df2, row])\n",
    "        elif df.loc[i, \"概率最大的主题序号\"] == \"Topic #3\":\n",
    "            # Append row to df3 DataFrame\n",
    "            row = pd.DataFrame({\n",
    "                'content': [df.loc[i, \"content\"] + df.loc[i, \"content_cutted\"] + df.loc[i, \"概率最大的主题序号\"]],\n",
    "                'forward_num': [df.loc[i, \"forward_num\"]],\n",
    "                'comment_num': [df.loc[i, \"comment_num\"]],\n",
    "                'like_num': [df.loc[i, \"like_num\"]],\n",
    "                'verify_typ': [df.loc[i, \"verify_typ\"]],\n",
    "                'publish_time': [df.loc[i, \"publish_time\"]],\n",
    "                'sentiment': [df.loc[i, \"sentiment\"]]\n",
    "            })\n",
    "            df3 = pd.concat([df3, row])\n",
    "\n",
    "    # Write DataFrames to CSV files with column names\n",
    "    df0.to_csv('/dataset/data_topic0.csv', index=False)  \n",
    "    df1.to_csv('/dataset/data_topic1.csv', index=False) \n",
    "    df2.to_csv('/dataset/data_topic2.csv', index=False)\n",
    "    df3.to_csv('/dataset/data_topic3.csv', index=False) "
   ]
  },
  {
   "cell_type": "code",
   "execution_count": 55,
   "metadata": {},
   "outputs": [],
   "source": [
    "data_sort('/lda/result/data_topic.csv')"
   ]
  },
  {
   "cell_type": "code",
   "execution_count": 26,
   "metadata": {},
   "outputs": [],
   "source": [
    "def Get_Time(filename):\n",
    "    df = pd.read_csv(filename,low_memory=False)\n",
    "    Publish_time = df[\"publish_time\"].astype(str)\n",
    "    Time = []\n",
    "    for i in range(len(Publish_time) - 1, -1, -1):\n",
    "        Time.append(str(Publish_time[i][5:]))\n",
    "    return Time\n"
   ]
  },
  {
   "cell_type": "code",
   "execution_count": 15,
   "metadata": {},
   "outputs": [],
   "source": [
    "#有些数据太大会使得数据为100万+，200万+等，所以需要在计算之前对数据再进行以此处理\n",
    "def Get_Sentiment(filename):\n",
    "    df = pd.read_csv(filename,low_memory=False)\n",
    "    sentiment = df[\"sentiment\"]\n",
    "    sentiment2 = []\n",
    "    for i in range(len(sentiment) - 1, -1, -1):\n",
    "        sentiment2.append(sentiment[i])\n",
    "    return sentiment2"
   ]
  },
  {
   "cell_type": "code",
   "execution_count": 31,
   "metadata": {},
   "outputs": [],
   "source": [
    "def Time_Pos(Time,sentiment):\n",
    "    start_time = datetime.strptime(Time[0], '%m-%d %H:%M')\n",
    "    seconds = [0]\n",
    "    for i in range(1, len(Time)):\n",
    "        time = datetime.strptime(Time[i], '%m-%d %H:%M')\n",
    "        delta = (time - start_time).total_seconds()\n",
    "        seconds.append(int(delta // (24 * 60 * 60)))\n",
    "    count = Counter(seconds)\n",
    "    index = []\n",
    "    for i in range(seconds[-1] + 1):\n",
    "        sum = 0\n",
    "        for j in range(i + 1):\n",
    "            sum = sum + count[j]\n",
    "        index.append(sum)\n",
    "    Pos_rate = []\n",
    "    for i in range(seconds[-1] +1):\n",
    "        good = 0\n",
    "        for j in range(index[i]):\n",
    "            if (sentiment[j] == 1):\n",
    "                good = good + 1\n",
    "            pos_rate = good / index[i]\n",
    "        Pos_rate.append(round(pos_rate, 4))\n",
    "    Pos_rate = Pos_rate[2:]\n",
    "    seconds[-1] = seconds[-1] - 2\n",
    "    #从话题出现的48小时后开始统计；前48小时为事件发酵时间，此时情感极性太强，无法提高客观的情感参考\n",
    "    return seconds,Pos_rate\n",
    "\n",
    "def fitting_function(x,y):\n",
    "    X = np.arange(0, x[-1]+1)\n",
    "    y = np.array(y)\n",
    "    # 将X升幂到更高的次数，这里我们选择了4次\n",
    "    poly = PolynomialFeatures(degree=4)\n",
    "    X_poly = poly.fit_transform(X.reshape(-1, 1))\n",
    "\n",
    "    # 初始化线性回归模型\n",
    "    regressor = LinearRegression()\n",
    "\n",
    "    # 在多项式特征上拟合数据\n",
    "    regressor.fit(X_poly, y)\n",
    "\n",
    "    # 预测结果\n",
    "    y_pred = regressor.predict(X_poly)\n",
    "\n",
    "    # 绘制拟合结果\n",
    "    plt.scatter(X, y, color='blue')\n",
    "    plt.plot(X, y_pred, color='red')\n",
    "    plt.show()"
   ]
  },
  {
   "cell_type": "code",
   "execution_count": 53,
   "metadata": {},
   "outputs": [
    {
     "data": {
      "image/png": "[encoded data removed]",
      "text/plain": [
       "<Figure size 432x288 with 1 Axes>"
      ]
     },
     "metadata": {
      "needs_background": "light"
     },
     "output_type": "display_data"
    }
   ],
   "source": [
    "filename = \"/lda/result/data_topic.csv\"\n",
    "\n",
    "time = Get_Time(filename)\n",
    "\n",
    "sentiment = Get_Sentiment(filename)\n",
    "\n",
    "seconds_pos,Pos_rate = Time_Pos(time,sentiment)\n",
    "\n",
    "fitting_function(seconds_pos,Pos_rate)"
   ]
  },
  {
   "cell_type": "code",
   "execution_count": null,
   "metadata": {},
   "outputs": [],
   "source": []
  }
 ],
 "metadata": {
  "kernelspec": {
   "display_name": "Python 3",
   "language": "python",
   "name": "python3"
  },
  "language_info": {
   "codemirror_mode": {
    "name": "ipython",
    "version": 3
   },
   "file_extension": ".py",
   "mimetype": "text/x-python",
   "name": "python",
   "nbconvert_exporter": "python",
   "pygments_lexer": "ipython3",
   "version": "3.8.3"
  }
 },
 "nbformat": 4,
 "nbformat_minor": 4
}
